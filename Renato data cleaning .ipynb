{
 "cells": [
  {
   "cell_type": "code",
   "execution_count": 1,
   "id": "3daca376",
   "metadata": {},
   "outputs": [],
   "source": [
    "import pandas as pd "
   ]
  },
  {
   "cell_type": "code",
   "execution_count": 3,
   "id": "9ad9ab09",
   "metadata": {},
   "outputs": [],
   "source": [
    "df_2021 = pd.read_csv('Data/FIBRS_Offense_Detail_2021.csv')\n",
    "df_2022 = pd.read_csv('Data/FIBRS_Offense_Detail_2022 .csv')\n",
    "df_2023 = pd.read_csv('Data/FIBRS_Offense_Detail_2023_Q2.csv')"
   ]
  },
  {
   "cell_type": "code",
   "execution_count": 4,
   "id": "63e1de96",
   "metadata": {},
   "outputs": [],
   "source": [
    "merged_df = pd.concat([df_2021, df_2022, df_2023], ignore_index=True)"
   ]
  },
  {
   "cell_type": "code",
   "execution_count": 5,
   "id": "ab737e9b",
   "metadata": {},
   "outputs": [],
   "source": [
    "merged_df.to_csv('Data/merged_data.csv', index=False)"
   ]
  },
  {
   "cell_type": "code",
   "execution_count": null,
   "id": "acc80ed8",
   "metadata": {},
   "outputs": [],
   "source": []
  }
 ],
 "metadata": {
  "kernelspec": {
   "display_name": "Python 3 (ipykernel)",
   "language": "python",
   "name": "python3"
  },
  "language_info": {
   "codemirror_mode": {
    "name": "ipython",
    "version": 3
   },
   "file_extension": ".py",
   "mimetype": "text/x-python",
   "name": "python",
   "nbconvert_exporter": "python",
   "pygments_lexer": "ipython3",
   "version": "3.10.13"
  }
 },
 "nbformat": 4,
 "nbformat_minor": 5
}
